{
  "nbformat": 4,
  "nbformat_minor": 0,
  "metadata": {
    "colab": {
      "name": "How to create animated graph in Python.ipynb",
      "version": "0.3.2",
      "provenance": [],
      "include_colab_link": true
    },
    "kernelspec": {
      "name": "python3",
      "display_name": "Python 3"
    }
  },
  "cells": [
    {
      "cell_type": "markdown",
      "metadata": {
        "id": "view-in-github",
        "colab_type": "text"
      },
      "source": [
        "[View in Colaboratory](https://colab.research.google.com/github/truonghai001/code_snippet/blob/master/visualization/How_to_create_animated_graph_in_Python.ipynb)"
      ]
    },
    {
      "metadata": {
        "id": "0lGrIajTBzjO",
        "colab_type": "text"
      },
      "cell_type": "markdown",
      "source": [
        "### How to create animated graph in Python\n",
        "\n",
        "**Link**: https://towardsdatascience.com/how-to-create-animated-graphs-in-python-bb619cc2dec1\n",
        "\n",
        "Libraries:\n",
        "+ Python\n",
        "+ Pandas\n",
        "+ Seaborn\n"
      ]
    },
    {
      "metadata": {
        "id": "c_z5jNU98D-w",
        "colab_type": "code",
        "colab": {}
      },
      "cell_type": "code",
      "source": [
        "# import libs\n",
        "import pandas as pd\n",
        "import numpy as np\n",
        "import seaborn as sns"
      ],
      "execution_count": 0,
      "outputs": []
    },
    {
      "metadata": {
        "id": "gUQBSaNdCAVx",
        "colab_type": "code",
        "colab": {}
      },
      "cell_type": "code",
      "source": [
        ""
      ],
      "execution_count": 0,
      "outputs": []
    }
  ]
}